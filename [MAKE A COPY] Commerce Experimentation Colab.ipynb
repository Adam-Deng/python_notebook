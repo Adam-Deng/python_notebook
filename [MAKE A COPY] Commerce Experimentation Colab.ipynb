{
  "nbformat": 4,
  "nbformat_minor": 0,
  "metadata": {
    "colab": {
      "name": "[MAKE A COPY] Commerce Experimentation Colab.ipynb",
      "version": "0.3.2",
      "views": {},
      "default_view": {},
      "provenance": [
        {
          "file_id": "0B-mJmV7Kb5aeVUlibXREdVo2U28",
          "timestamp": 1453841918656
        }
      ],
      "last_runtime": {
        "build_target": "//research/colab/notebook:notebook_backend",
        "kind": "private"
      }
    }
  },
  "cells": [
    {
      "metadata": {
        "id": "SE2Yt6t5NA-N",
        "colab_type": "text"
      },
      "source": [
        "See documentation on how to use this colab here: https://docs.google.com/a/google.com/document/d/1haumBiP-GAaNI1HAf2jWUM1usnin-atI-DUH6hRr6IM/edit?usp=sharing"
      ],
      "cell_type": "markdown"
    },
    {
      "metadata": {
        "id": "yrHSHVoGJVpf",
        "colab_type": "code",
        "colab": {
          "autoexec": {
            "startup": false,
            "wait_interval": 0
          },
          "output_extras": [
            {
              "item_id": 1
            },
            {
              "item_id": 2
            },
            {
              "item_id": 3
            },
            {
              "item_id": 4
            },
            {
              "item_id": 5
            },
            {
              "item_id": 6
            }
          ]
        },
        "cellView": "code",
        "outputId": "96555cdc-1f0d-4ac1-929a-4e37fa77a015",
        "executionInfo": {
          "status": "ok",
          "timestamp": 1494878324217,
          "user_tz": 420,
          "elapsed": 331,
          "user": {
            "displayName": "Ming Chang",
            "photoUrl": "//lh5.googleusercontent.com/-el6fY6-Amo0/AAAAAAAAAAI/AAAAAAAAACo/MhvSx92eHL0/s50-c-k-no/photo.jpg",
            "userId": "109075119321458868914"
          }
        }
      },
      "source": [
        "#@title Input { display-mode: \"form\", run: \"auto\" }\n",
        "\n",
        "import datetime\n",
        "import re\n",
        "import string\n",
        "\n",
        "from colabtools import shell, dremel, magicfunc, nvd3, js, outputformat, interactive_table, interactive_forms\n",
        "import math\n",
        "import pandas\n",
        "import numpy\n",
        "import matplotlib.pyplot as plt\n",
        "from matplotlib import pylab as pl\n",
        "from scipy.stats import t\n",
        "\n",
        "## turn on translation of enums as string (default is they are shown as integers)\n",
        "dremel.ENABLE_STRING_ENUM = True\n",
        "\n",
        "## set the accounting group for dremel to play-commerce-analytics\n",
        "dremel.SetAccountingGroup('play-commerce-data-readers')\n",
        "dremel.SetDremelCredentials()\n",
        "\n",
        "## set the materialize owners group to play-commerce-analytics\n",
        "dremel.SetMaterializeOwnerGroup('play-commerce-data-readers')\n",
        "dremel.SetMaterializeOverwrite(True)\n",
        "\n",
        "## use googleSQL\n",
        "dremel.SetLanguage('DremelSQL')\n",
        "\n",
        "## setting printModel to 1; i.e. removing in-cell vertical scrollbars. \n",
        "ip = get_ipython()\n",
        "ip.events.register('pre_run_cell', outputformat.no_vertical_scrollbar)\n",
        "\n",
        "def convertToDremelDateStr(date):\n",
        "  return datetime.datetime.strptime(date, '%Y-%m-%d').date().strftime(\"%Y%m%d\")\n",
        "\n",
        "target_ids = \"12631590,12631589\" #@param\n",
        "start_date = \"2017-05-06\" #@param {type:\"date\"}\n",
        "end_date = \"2017-05-12\" #@param {type:\"date\"}\n",
        "ip_country = \"All\" #@param\n",
        "\n",
        "# Validate Target IDs\n",
        "pattern = re.compile(\"\\d+\")\n",
        "target_ids_arr = []\n",
        "for target_id in string.split(target_ids, \",\"):\n",
        "  target_id = string.strip(target_id)\n",
        "  if len(target_id) == 0:\n",
        "    continue\n",
        "  m = pattern.match(target_id)\n",
        "  if not m or len(m.group(0)) != len(target_id):\n",
        "    print \"WARNING: target ID \\'\" + target_id + \"' is not valid and will be ignored.\"\n",
        "    continue\n",
        "  target_ids_arr.append(int(target_id))\n",
        "  \n",
        "# Validate Dates\n",
        "if (end_date < start_date):\n",
        "  raise Exception(\"End date cannot be less than start date!\")\n",
        "start_end_date_string = \"{\" + convertToDremelDateStr(start_date) + \"..\" + convertToDremelDateStr(end_date) + \"}\"\n",
        "\n",
        "# change date format\n",
        "start_date_wo_dash = convertToDremelDateStr(start_date)\n",
        "end_date_wo_dash = convertToDremelDateStr(end_date)\n",
        "start_end_date_string = \"{\" + start_date_wo_dash + \"..\" + end_date_wo_dash + \"}\"\n",
        "#start_end_date_string = \"last14days\"\n",
        "\n",
        "# ip_country parameter\n",
        "ip_countries = \"\"\n",
        "if (ip_country == \"All\"):\n",
        "  country_filter = \"\"\n",
        "else:\n",
        "  country_filter = \"and ip_country in ('\" + ip_country + \"')\""
      ],
      "cell_type": "code",
      "execution_count": 7,
      "outputs": [
        {
          "output_type": "display_data",
          "data": {
            "application/javascript": [
              "window[\"e6546d8c-39a8-11e7-8a58-001a114a4d3c\"] = colab.output.setOutputHeight(-1, true, {\"maxHeight\": 99999, \"interactive\": true});\n",
              "//# sourceURL=js_b06419680b"
            ],
            "text/plain": [
              "<IPython.core.display.Javascript at 0x55b03c4cf190>"
            ]
          },
          "metadata": {
            "tags": []
          }
        },
        {
          "output_type": "display_data",
          "data": {
            "application/javascript": [
              "window[\"e654b7a6-39a8-11e7-8a58-001a114a4d3c\"] = colab.output.setOutputHeight(-1, true, {\"maxHeight\": 99999, \"interactive\": true});\n",
              "//# sourceURL=js_a17d77e32f"
            ],
            "text/plain": [
              "<IPython.core.display.Javascript at 0x55b03c4cf150>"
            ]
          },
          "metadata": {
            "tags": []
          }
        },
        {
          "output_type": "display_data",
          "data": {
            "application/javascript": [
              "window[\"e654efc8-39a8-11e7-8a58-001a114a4d3c\"] = colab.output.setOutputHeight(-1, true, {\"maxHeight\": 99999, \"interactive\": true});\n",
              "//# sourceURL=js_b724564f13"
            ],
            "text/plain": [
              "<IPython.core.display.Javascript at 0x55b03c4cf210>"
            ]
          },
          "metadata": {
            "tags": []
          }
        },
        {
          "output_type": "display_data",
          "data": {
            "application/javascript": [
              "window[\"e6552fc4-39a8-11e7-8a58-001a114a4d3c\"] = colab.output.setOutputHeight(-1, true, {\"maxHeight\": 99999, \"interactive\": true});\n",
              "//# sourceURL=js_f230383fdd"
            ],
            "text/plain": [
              "<IPython.core.display.Javascript at 0x55b03c4cf290>"
            ]
          },
          "metadata": {
            "tags": []
          }
        },
        {
          "output_type": "display_data",
          "data": {
            "application/javascript": [
              "window[\"e6556e62-39a8-11e7-8a58-001a114a4d3c\"] = colab.output.setOutputHeight(-1, true, {\"maxHeight\": 99999, \"interactive\": true});\n",
              "//# sourceURL=js_147428cd2f"
            ],
            "text/plain": [
              "<IPython.core.display.Javascript at 0x55b03c4cf250>"
            ]
          },
          "metadata": {
            "tags": []
          }
        },
        {
          "output_type": "display_data",
          "data": {
            "application/javascript": [
              "window[\"e655ab02-39a8-11e7-8a58-001a114a4d3c\"] = colab.output.setOutputHeight(-1, true, {\"maxHeight\": 99999, \"interactive\": true});\n",
              "//# sourceURL=js_ccacf5a6f8"
            ],
            "text/plain": [
              "<IPython.core.display.Javascript at 0x55b03c4cf350>"
            ]
          },
          "metadata": {
            "tags": []
          }
        }
      ]
    },
    {
      "metadata": {
        "id": "qDfFe2G_hRYA",
        "colab_type": "code",
        "colab": {
          "autoexec": {
            "startup": false,
            "wait_interval": 0
          },
          "output_extras": [
            {
              "item_id": 1
            },
            {
              "item_id": 2
            },
            {
              "item_id": 3
            },
            {
              "item_id": 4
            },
            {
              "item_id": 5
            },
            {
              "item_id": 6
            },
            {
              "item_id": 7
            },
            {
              "item_id": 8
            },
            {
              "item_id": 9
            },
            {
              "item_id": 10
            },
            {
              "item_id": 11
            },
            {
              "item_id": 12
            },
            {
              "item_id": 13
            },
            {
              "item_id": 14
            }
          ]
        },
        "cellView": "code",
        "outputId": "ef65fa90-5968-471d-eb98-6c0c3309695c",
        "executionInfo": {
          "status": "ok",
          "timestamp": 1494878330080,
          "user_tz": 420,
          "elapsed": 3998,
          "user": {
            "displayName": "Ming Chang",
            "photoUrl": "//lh5.googleusercontent.com/-el6fY6-Amo0/AAAAAAAAAAI/AAAAAAAAACo/MhvSx92eHL0/s50-c-k-no/photo.jpg",
            "userId": "109075119321458868914"
          }
        }
      },
      "source": [
        "#@title Function Library {display-mode: \"form\", vertical-output: true}\n",
        "%%substitute_globals\n",
        "target_id_arr = {target_ids_arr}\n",
        "\n",
        "def GetSeriesForGroup(index_series, table):\n",
        "  series_num = table.groupby('date')['numerator'].sum()\n",
        "  series_denom = table.groupby('date')['denominator'].sum()\n",
        "  series = []\n",
        "  for i in index_series:\n",
        "    try:\n",
        "      num = series_num[index_series.index(i)]\n",
        "      denom = series_denom[index_series.index(i)]\n",
        "      ratio = float(num) / denom\n",
        "    except IndexError:\n",
        "      print \"WARNING! Missing Date:\", i\n",
        "      ratio = 0.0\n",
        "    series.append(ratio)\n",
        "  return series;\n",
        "\n",
        "def PlotSeries(index_series, ctr_series, exp_series_arr):\n",
        "  data = {'date': index_series,\n",
        "          '{0} (control)'.format(target_id_arr[0]): ctr_series}\n",
        "  labels = ['{0} (control)'.format(target_id_arr[0])]\n",
        "  for i in range(1, len(target_id_arr)):\n",
        "    target_id = str(target_id_arr[i])\n",
        "    data[target_id] = exp_series_arr[i - 1]\n",
        "    labels.append(target_id)\n",
        "\n",
        "  df=pandas.DataFrame(data, index=index_series, columns=labels)\n",
        "  df.plot()\n",
        "\n",
        "def PrintDailyTimeSeries(date_series, target_id_series, num_series, denom_series):\n",
        "  initial_table=pandas.DataFrame({'date': date_series.tolist(),\n",
        "                                  'target_id': target_id_series.tolist(),\n",
        "                                  'numerator': num_series.tolist(),\n",
        "                                  'denominator': denom_series.tolist()},\n",
        "                                  columns=['date','target_id','numerator','denominator'])\n",
        "  \n",
        "  index_series = numpy.unique(date_series).tolist()\n",
        "  \n",
        "  control_table = (\n",
        "      initial_table[\n",
        "          ['date', 'numerator', 'denominator']\n",
        "      ][initial_table.target_id == target_id_arr[0]])\n",
        "  ctr_series = GetSeriesForGroup(index_series, control_table)\n",
        "\n",
        "  experiment_tables = []\n",
        "  for i in range(1, len(target_id_arr)):\n",
        "    experiment_tables.append(\n",
        "      initial_table[['date', 'numerator', 'denominator']\n",
        "                   ][initial_table.target_id == target_id_arr[i]])\n",
        "      \n",
        "  exp_series_arr = [GetSeriesForGroup(index_series, table)\n",
        "                    for table in experiment_tables]\n",
        "\n",
        "  # plot daily series\n",
        "  for i in range(1, len(target_id_arr)):\n",
        "    exp_series = exp_series_arr[i - 1]\n",
        "    ratio = exp_series[-1] / ctr_series[-1] - 1.0\n",
        "    ratio_pct = round(ratio*100,2)\n",
        "    print \"Cumulative uplift for group {0}: {1}%\".format(\n",
        "      target_id_arr[i], ratio_pct)\n",
        "  PlotSeries(index_series, ctr_series, exp_series_arr)\n",
        "\n",
        "def PrintCumulativeTimeSeries(date_series, target_id_series, num_series, denom_series):\n",
        "  initial_table=pandas.DataFrame({'date': date_series.tolist(),\n",
        "                                  'target_id': target_id_series.tolist(),\n",
        "                                  'numerator': num_series.tolist(),\n",
        "                                  'denominator': denom_series.tolist()},\n",
        "                                  columns=['date','target_id','numerator','denominator'])\n",
        "  \n",
        "  index_series = numpy.unique(date_series).tolist()\n",
        "  \n",
        "  control_table = (\n",
        "      initial_table[\n",
        "          ['date', 'numerator', 'denominator']\n",
        "      ][initial_table.target_id == target_id_arr[0]])\n",
        "  ctr_series = GetSeriesForGroup(index_series, control_table)\n",
        "\n",
        "  experiment_tables = []\n",
        "  for i in range(1, len(target_id_arr)):\n",
        "    experiment_tables.append(\n",
        "      initial_table[['date', 'numerator', 'denominator']\n",
        "                   ][initial_table.target_id == target_id_arr[i]])\n",
        "      \n",
        "  exp_series_arr = [GetSeriesForGroup(index_series, table)\n",
        "                    for table in experiment_tables]\n",
        "\n",
        "  # plot cumulative series\n",
        "  cum_ctr_series = numpy.cumsum(ctr_series)\n",
        "  cum_exp_series_arr = [numpy.cumsum(exp_series)\n",
        "                        for exp_series in exp_series_arr]\n",
        "  for i in range(1, len(target_id_arr)):\n",
        "    cum_exp_series = cum_exp_series_arr[i - 1]\n",
        "    cum_ratio = cum_exp_series[-1] / cum_ctr_series[-1] - 1.0\n",
        "    cum_ratio_pct = round(cum_ratio*100,2)\n",
        "    print \"Cumulative uplift for group {0}: {1}%\".format(\n",
        "      target_id_arr[i], cum_ratio_pct)\n",
        "  PlotSeries(index_series, cum_ctr_series, cum_exp_series_arr)\n",
        "\n",
        "def JackknifeStandardErrorRatioMetricOneSample(bucket_num, bucket_denom):\n",
        "  if len(bucket_num) != len(bucket_denom):\n",
        "    raise ValueError(\"\"\"control_buckets and experiment_buckets are not the\n",
        "    same length\"\"\")\n",
        "\n",
        "  n_buckets = len(bucket_num)\n",
        "  num_sum = sum(bucket_num)\n",
        "  denom_sum = sum(bucket_denom)\n",
        "  global_ratio = float(num_sum) / float(denom_sum)\n",
        "\n",
        "  jackknife_sum_squares = 0.0\n",
        "\n",
        "  for i in range(n_buckets):\n",
        "    jackknife_bucket = float(num_sum - bucket_num[i]) / float(denom_sum - bucket_denom[i])\n",
        "    jackknife_sum_squares += (jackknife_bucket - global_ratio) ** 2\n",
        "  \n",
        "  jackknife_sum_squares = float(jackknife_sum_squares)\n",
        "  n_buckets = float(n_buckets)\n",
        "  metric_se = math.sqrt(jackknife_sum_squares * ((n_buckets - 1) / n_buckets))\n",
        "  return global_ratio, metric_se\n",
        "\n",
        "def CreateTConfidenceInterval(overall_metric,\n",
        "                              metric_se,\n",
        "                              n_buckets,\n",
        "                              confidence_level=0.05):\n",
        "  t_rv = t(n_buckets - 1)\n",
        "  t_statistic = t_rv.ppf(1 - confidence_level / 2.0)\n",
        "\n",
        "  upper_bound = overall_metric + t_statistic * metric_se\n",
        "  lower_bound = overall_metric - t_statistic * metric_se\n",
        "  return lower_bound, upper_bound\n",
        "\n",
        "def ComputeRatioMetricWithCI(bucket_num, bucket_denom):\n",
        "  if isinstance(bucket_num, pandas.Series):\n",
        "    bucket_num = bucket_num.tolist()\n",
        "\n",
        "  if isinstance(bucket_denom, pandas.Series):\n",
        "    bucket_denom = bucket_denom.tolist()\n",
        "\n",
        "  if len(bucket_num) != len(bucket_denom):\n",
        "    raise ValueError(\"\"\"numerator and denominator buckets\n",
        "    are of different lengths\"\"\")\n",
        "  \n",
        "  n = len(bucket_num)\n",
        "  metric, se = JackknifeStandardErrorRatioMetricOneSample(bucket_num,\n",
        "                                                          bucket_denom)\n",
        "  lower_bound, upper_bound = CreateTConfidenceInterval(metric, se, n)\n",
        "  return metric, lower_bound, upper_bound\n",
        "\n",
        "# calculate mean\n",
        "def CalculateMean(data):\n",
        "  n = len(data)\n",
        "  sum = 0.0\n",
        "  \n",
        "  for i in range(n):\n",
        "    sum += float(data[i])\n",
        "  \n",
        "  return sum/n\n",
        "\n",
        "# calculate (sample) standard deviation\n",
        "def CalculateSD(data):\n",
        "  n = len(data)\n",
        "  sumsquare = 0.0\n",
        "  avg = CalculateMean(data)\n",
        "  \n",
        "  for i in range(n):\n",
        "    sumsquare += (data[i] - avg) * (data[i] - avg)\n",
        "    \n",
        "  return math.sqrt(sumsquare/(n-1))\n",
        "\n",
        "# run t-test (paired)\n",
        "def OneSamplePairedTTest(experiment, control, sig_level=0.05):\n",
        "  diff = list(numpy.array(experiment) - numpy.array(control))\n",
        "\n",
        "  n = len(diff)\n",
        "  t_rv = t(n - 1)\n",
        "  t_statistics = t_rv.ppf(1 - sig_level / 2.0)\n",
        "  \n",
        "  avg = CalculateMean(diff)\n",
        "  se = CalculateSD(diff) / math.sqrt(n)\n",
        "  \n",
        "  test = abs(avg/se)\n",
        "\n",
        "  IsSignificant = False\n",
        "  \n",
        "  if (test >= t_statistics):\n",
        "    IsSignificant = True\n",
        "  \n",
        "  return IsSignificant, avg, se, test, t_statistics\n",
        "  \n",
        "# calculate and print statistical significance\n",
        "def PrintStatisticalSignificance(date_series, target_id_series, num_series, denom_series, sig_level=0.05):\n",
        "  initial_table=pandas.DataFrame({'date': date_series.tolist(),\n",
        "                                  'target_id': target_id_series.tolist(),\n",
        "                                   'numerator': num_series.tolist(),\n",
        "                                  'denominator': denom_series.tolist()},\n",
        "                                  columns=['date','target_id','numerator','denominator']).sort(columns=['date','target_id'],ascending=[1,1])\n",
        "  \n",
        "  experiment_table = (\n",
        "      initial_table[\n",
        "          ['date','numerator','denominator']\n",
        "      ][initial_table.target_id == target_id_arr[1]]).reset_index()\n",
        "  control_table = (\n",
        "      initial_table[\n",
        "          ['date','numerator','denominator']\n",
        "      ][initial_table.target_id == target_id_arr[0]]).reset_index() \n",
        "  \n",
        "  experiment_series_num = pandas.Series(experiment_table.numerator).tolist()\n",
        "  experiment_series_denom = pandas.Series(experiment_table.denominator).tolist()\n",
        "  \n",
        "  control_series_num = pandas.Series(control_table.numerator).tolist()\n",
        "  control_series_denom = pandas.Series(control_table.denominator).tolist()\n",
        "  \n",
        "  experiment_series = []\n",
        "  control_series = []\n",
        "  \n",
        "  for i in range(len(experiment_series_num)):\n",
        "    exp_num = experiment_series_num[i]\n",
        "    exp_denom = experiment_series_denom[i]\n",
        "    \n",
        "    ctr_num = control_series_num[i]\n",
        "    ctr_denom = control_series_denom[i]\n",
        "    \n",
        "    exp_ratio = float(exp_num) / float(exp_denom)\n",
        "    ctr_ratio = float(ctr_num) / float(ctr_denom)\n",
        "    \n",
        "    experiment_series.append(exp_ratio)\n",
        "    control_series.append(ctr_ratio)\n",
        "  \n",
        "  IsSignificant, avg_metric, se_metric, ttest, t_statistic = OneSamplePairedTTest(experiment_series, control_series)\n",
        "  if IsSignificant == True:\n",
        "    print \"Statistically significant\"\n",
        "  else:\n",
        "    print \"Statistically not significant\"\n",
        "  \n",
        "  overall_avg_metric = sum(control_series_num) / len(control_series_denom)\n",
        "  \n",
        "  lower_bound = avg_metric - se_metric * t_statistic\n",
        "  upper_bound = avg_metric + se_metric * t_statistic\n",
        "  \n",
        "  lower_bound_pct = int(lower_bound/overall_avg_metric * 1000000.0 ) / 10000.0\n",
        "  upper_bound_pct = int(upper_bound/overall_avg_metric * 1000000.0 ) / 10000.0\n",
        "  \n",
        "  avg_metric_pct = int(avg_metric/overall_avg_metric * 1000000.0 ) / 10000.0\n",
        "  \n",
        "  print \"Confidence interval: [\" + str(lower_bound_pct) + \"%,\" + str(upper_bound_pct) + \"%]\"   \n",
        "  print \"Average uplift: \" + str(avg_metric_pct) + \"%\"\n",
        "\n",
        "from matplotlib import gridspec\n",
        "\n",
        "def getRatio(num, denom):\n",
        "  return 0 if num == 0 else float(num) / float(denom)\n",
        "\n",
        "def JackknifeStandardErrorDifferenceTwoRatios(\n",
        "    exp_bucket_num, exp_bucket_denom,\n",
        "    ctr_bucket_num, ctr_bucket_denom):\n",
        "\n",
        "  if (len(exp_bucket_num) != len(exp_bucket_denom) and\n",
        "      len(exp_bucket_num) != len(ctr_bucket_num) and\n",
        "      len(exp_bucket_num) != len(ctr_bucket_denom)):\n",
        "    raise ValueError('control_buckets and experiment_buckets not same length')\n",
        "    \n",
        "  n_buckets = len(ctr_bucket_num)\n",
        "  \n",
        "  ctr_num_sum = sum(ctr_bucket_num)\n",
        "  ctr_denom_sum = sum(ctr_bucket_denom)\n",
        "  ctr_ratio = getRatio(ctr_num_sum, ctr_denom_sum)\n",
        "  \n",
        "  exp_num_sum = sum(exp_bucket_num)\n",
        "  exp_denom_sum = sum(exp_bucket_denom)\n",
        "  exp_ratio = getRatio(exp_num_sum, exp_denom_sum)\n",
        "\n",
        "  global_difference = exp_ratio - ctr_ratio\n",
        "\n",
        "  jackknife_sum_squares = 0.0\n",
        "  \n",
        "  \n",
        "  for i in range(n_buckets):\n",
        "    jackknife_bucket = (\n",
        "        getRatio(exp_num_sum - exp_bucket_num[i], exp_denom_sum - exp_bucket_denom[i]) -\n",
        "        getRatio(ctr_num_sum - ctr_bucket_num[i], ctr_denom_sum - ctr_bucket_denom[i]))\n",
        "    jackknife_sum_squares += (jackknife_bucket - global_difference) ** 2\n",
        "  \n",
        "  jackknife_sum_squares = float(jackknife_sum_squares)\n",
        "  n_buckets = float(n_buckets)\n",
        "  metric_se = math.sqrt(jackknife_sum_squares * ((n_buckets - 1) / n_buckets))\n",
        "  return global_difference, metric_se\n",
        "\n",
        "def ComputeRatioDifferenceWithCI(exp_bucket_num,\n",
        "                                 exp_bucket_denom,\n",
        "                                 ctr_bucket_num,\n",
        "                                 ctr_bucket_denom):\n",
        "\n",
        "  metric, se = JackknifeStandardErrorDifferenceTwoRatios(\n",
        "      exp_bucket_num, exp_bucket_denom,\n",
        "      ctr_bucket_num, ctr_bucket_denom)\n",
        "\n",
        "  n = len(exp_bucket_num)\n",
        "  lower_bound, upper_bound = CreateTConfidenceInterval(metric, se, n)\n",
        "\n",
        "  return metric, lower_bound, upper_bound\n",
        "\n",
        "def GetCumulativeUserBucketsForField(table, field, until_date, sorted_user_buckets):\n",
        "  temp = table[['user_bucket', field]][table.date<=until_date].groupby(\n",
        "    ['user_bucket']).sum()\n",
        "\n",
        "  result_list = []\n",
        "  for bucket in sorted_user_buckets:\n",
        "    try:\n",
        "      val = temp.loc[bucket, field]\n",
        "    except KeyError:\n",
        "      print \"WARNING! User bucket {0} on {1} for field {2} is empty.\".format(\n",
        "        bucket, until_date, field)\n",
        "      val = 0\n",
        "    result_list.append(val)\n",
        "\n",
        "  return result_list\n",
        "\n",
        "def GetDailyUserBucketsForField(table, field, until_date, sorted_user_buckets):\n",
        "  temp = table[['user_bucket', field]][table.date == until_date].groupby(\n",
        "    ['user_bucket']).sum()\n",
        "\n",
        "  result_list = []\n",
        "  for bucket in sorted_user_buckets:\n",
        "    try:\n",
        "      val = temp.loc[bucket, field]\n",
        "    except KeyError:\n",
        "      print \"WARNING! User bucket {0} on {1} for field {2} is empty.\".format(\n",
        "        bucket, until_date, field)\n",
        "      val = 0\n",
        "    result_list.append(val)\n",
        "\n",
        "  return result_list\n",
        "\n",
        "# plot cumulative confidence interval on difference\n",
        "def PrintCumulativeCI(\n",
        "    date_series, user_bucket_series, num_series, denom_series, target_id_series,\n",
        "    confidence_level=0.05):\n",
        "  initial_table=pandas.DataFrame({'date': date_series.tolist(),\n",
        "                                  'user_bucket': user_bucket_series.tolist(),\n",
        "                                  'num': num_series.tolist(),\n",
        "                                  'denom': denom_series.tolist(),\n",
        "                                  'target_id': target_id_series.tolist()},\n",
        "                                  columns=['date','user_bucket','num','denom','target_id'])\n",
        "\n",
        "  sorted_user_buckets = numpy.unique(initial_table['user_bucket'])\n",
        "\n",
        "  control_table = initial_table[\n",
        "    ['date','user_bucket','num','denom']][initial_table.target_id == target_id_arr[0]]\n",
        "\n",
        "  experiment_tables = []\n",
        "  for i in range(1, len(target_id_arr)):\n",
        "    experiment_tables.append(initial_table[\n",
        "      ['date','user_bucket','num','denom']][initial_table.target_id == target_id_arr[i]])\n",
        "  \n",
        "    days_ = []\n",
        "    value_ = []\n",
        "    lower_ = []\n",
        "    upper_ = []\n",
        "    baseline_ = []\n",
        "\n",
        "    for unique_day in date_series.unique():\n",
        "      ctr_bucket_num = GetCumulativeUserBucketsForField(\n",
        "        control_table, 'num', unique_day, sorted_user_buckets)\n",
        "      ctr_bucket_denom = GetCumulativeUserBucketsForField(\n",
        "        control_table, 'denom', unique_day, sorted_user_buckets)\n",
        "\n",
        "      experiment_table = experiment_tables[-1]\n",
        "      exp_bucket_num = GetCumulativeUserBucketsForField(\n",
        "        experiment_table, 'num', unique_day, sorted_user_buckets)\n",
        "      exp_bucket_denom = GetCumulativeUserBucketsForField(\n",
        "        experiment_table, 'denom', unique_day, sorted_user_buckets)\n",
        "\n",
        "      baseline_.append(0.0)\n",
        "\n",
        "      value, lower, upper = ComputeRatioDifferenceWithCI(\n",
        "        exp_bucket_num, exp_bucket_denom, ctr_bucket_num, ctr_bucket_denom)\n",
        "      control = getRatio(sum(ctr_bucket_num), sum(ctr_bucket_denom))\n",
        "\n",
        "      days_.append(unique_day)\n",
        "\n",
        "      if control == 0:\n",
        "        value_.append(None)\n",
        "        lower_.append(None)\n",
        "        upper_.append(None)\n",
        "      else:\n",
        "        value_.append(value / control)\n",
        "        lower_.append(lower / control)\n",
        "        upper_.append(upper / control)\n",
        "\n",
        "\n",
        "    # calculate one final confidence interval\n",
        "    lower_bound_pct = round(lower_[-1]*100,2)\n",
        "    upper_bound_pct = round(upper_[-1]*100,2)\n",
        "    avg_metric_pct = round(value_[-1]*100,2)\n",
        "    \n",
        "    print \"Treatment\", target_id_arr[i]\n",
        "    print \"  Jackkinfe confidence interval: [{0}%, {1}%]\".format(\n",
        "      lower_bound_pct, upper_bound_pct)\n",
        "    print \"  Cumulative uplift: {0}%\".format(avg_metric_pct)\n",
        "    print \"  Statistical significance: {0}\".format(\n",
        "      \"YES\" if lower_bound_pct>0 or upper_bound_pct<0 else \"NO\")\n",
        "\n",
        "    cum_bounds_df = pandas.DataFrame(\n",
        "        {\n",
        "            'date': days_,\n",
        "            'value': value_,\n",
        "            'upper': upper_,\n",
        "            'lower': lower_,\n",
        "            'baseline': baseline_\n",
        "        },\n",
        "        columns=['date','value','upper','lower','baseline']).sort_values(\n",
        "            by='date', ascending=True)\n",
        "\n",
        "    fig = plt.figure(figsize=(10, 5))\n",
        "    gs = gridspec.GridSpec(1, 1, width_ratios=[1],\n",
        "                           height_ratios=[1])\n",
        "\n",
        "    ax1 = plt.subplot(gs[0])\n",
        "    ax1.plot(cum_bounds_df.index, cum_bounds_df.value, color='blue',linewidth=1)\n",
        "    ax1.plot(cum_bounds_df.index, cum_bounds_df.baseline, color='black',linewidth=1 )\n",
        "    ax1.fill_between(cum_bounds_df.index, cum_bounds_df.lower, cum_bounds_df.upper, color='blue', alpha=0.3)\n",
        "\n",
        "    \n",
        "def PrintDailyCI(\n",
        "    date_series, user_bucket_series, num_series, denom_series, target_id_series,\n",
        "    confidence_level=0.05):\n",
        "  initial_table=pandas.DataFrame({'date': date_series.tolist(),\n",
        "                                  'user_bucket': user_bucket_series.tolist(),\n",
        "                                  'num': num_series.tolist(),\n",
        "                                  'denom': denom_series.tolist(),\n",
        "                                  'target_id': target_id_series.tolist()},\n",
        "                                  columns=['date','user_bucket','num','denom','target_id'])\n",
        "\n",
        "  sorted_user_buckets = numpy.unique(initial_table['user_bucket'])\n",
        "\n",
        "  control_table = initial_table[\n",
        "    ['date','user_bucket','num','denom']][initial_table.target_id == target_id_arr[0]]\n",
        "\n",
        "  experiment_tables = []\n",
        "  for i in range(1, len(target_id_arr)):\n",
        "    experiment_tables.append(initial_table[\n",
        "      ['date','user_bucket','num','denom']][initial_table.target_id == target_id_arr[i]])\n",
        "  \n",
        "    days_ = []\n",
        "    value_ = []\n",
        "    lower_ = []\n",
        "    upper_ = []\n",
        "    baseline_ = []\n",
        "\n",
        "    for unique_day in date_series.unique():\n",
        "      ctr_bucket_num = GetDailyUserBucketsForField(\n",
        "        control_table, 'num', unique_day, sorted_user_buckets)\n",
        "      ctr_bucket_denom = GetDailyUserBucketsForField(\n",
        "        control_table, 'denom', unique_day, sorted_user_buckets)\n",
        "\n",
        "      experiment_table = experiment_tables[-1]\n",
        "      exp_bucket_num = GetDailyUserBucketsForField(\n",
        "        experiment_table, 'num', unique_day, sorted_user_buckets)\n",
        "      exp_bucket_denom = GetDailyUserBucketsForField(\n",
        "        experiment_table, 'denom', unique_day, sorted_user_buckets)\n",
        "\n",
        "      baseline_.append(0.0)\n",
        "\n",
        "      value, lower, upper = ComputeRatioDifferenceWithCI(\n",
        "        exp_bucket_num, exp_bucket_denom, ctr_bucket_num, ctr_bucket_denom)\n",
        "      control = getRatio(sum(ctr_bucket_num), sum(ctr_bucket_denom))\n",
        "\n",
        "      days_.append(unique_day)\n",
        "\n",
        "      if control == 0:\n",
        "        value_.append(None)\n",
        "        lower_.append(None)\n",
        "        upper_.append(None)\n",
        "      else:\n",
        "        value_.append(value / control)\n",
        "        lower_.append(lower / control)\n",
        "        upper_.append(upper / control)\n",
        "\n",
        "\n",
        "    # calculate one final confidence interval\n",
        "    lower_bound_pct = round(lower_[-1]*100,2)\n",
        "    upper_bound_pct = round(upper_[-1]*100,2)\n",
        "    avg_metric_pct = round(value_[-1]*100,2)\n",
        "    \n",
        "    print \"Treatment\", target_id_arr[i]\n",
        "    print \"  Jackkinfe confidence interval: [{0}%, {1}%]\".format(\n",
        "      lower_bound_pct, upper_bound_pct)\n",
        "    print \"  Cumulative uplift: {0}%\".format(avg_metric_pct)\n",
        "    print \"  Statistical significance: {0}\".format(\n",
        "      \"YES\" if lower_bound_pct>0 or upper_bound_pct<0 else \"NO\")\n",
        "\n",
        "    cum_bounds_df = pandas.DataFrame(\n",
        "        {\n",
        "            'date': days_,\n",
        "            'value': value_,\n",
        "            'upper': upper_,\n",
        "            'lower': lower_,\n",
        "            'baseline': baseline_\n",
        "        },\n",
        "        columns=['date','value','upper','lower','baseline']).sort_values(\n",
        "            by='date', ascending=True)\n",
        "\n",
        "    fig = plt.figure(figsize=(10, 5))\n",
        "    gs = gridspec.GridSpec(1, 1, width_ratios=[1],\n",
        "                           height_ratios=[1])\n",
        "\n",
        "    ax1 = plt.subplot(gs[0])\n",
        "    ax1.plot(cum_bounds_df.index, cum_bounds_df.value, color='blue',linewidth=1)\n",
        "    ax1.plot(cum_bounds_df.index, cum_bounds_df.baseline, color='black',linewidth=1 )\n",
        "    ax1.fill_between(cum_bounds_df.index, cum_bounds_df.lower, cum_bounds_df.upper, color='blue', alpha=0.3)\n",
        "    \n",
        "def PlotAll(metric, date_series, user_bucket_series, target_id_series,\n",
        "            num_series, denom_series):\n",
        "  print \"metric: \" + metric\n",
        "  PrintDailyTimeSeries(date_series, target_id_series, num_series, denom_series)\n",
        "  PrintCumulativeTimeSeries(date_series, target_id_series, num_series, denom_series)\n",
        "  PrintCumulativeCI(date_series, user_bucket_series, num_series, denom_series, target_id_series)\n",
        "\n",
        "def PlotBuyerWeek(metric, date_series, user_bucket_series, target_id_series,\n",
        "            num_series, denom_series):\n",
        "  print \"metric: \" + metric\n",
        "  PrintDailyTimeSeries(date_series, target_id_series, num_series, denom_series)\n",
        "  PrintDailyCI(date_series, user_bucket_series, num_series, denom_series, target_id_series)"
      ],
      "cell_type": "code",
      "execution_count": 8,
      "outputs": [
        {
          "output_type": "display_data",
          "data": {
            "application/javascript": [
              "window[\"e7a3b576-39a8-11e7-8a58-001a114a4d3c\"] = colab.output.setOutputHeight(-1, true, {\"maxHeight\": 99999, \"interactive\": true});\n",
              "//# sourceURL=js_dd170958de"
            ],
            "text/plain": [
              "<IPython.core.display.Javascript at 0x55b03c4dc450>"
            ]
          },
          "metadata": {
            "tags": []
          }
        },
        {
          "output_type": "display_data",
          "data": {
            "application/javascript": [
              "window[\"e7a3fd56-39a8-11e7-8a58-001a114a4d3c\"] = colab.output.setOutputHeight(-1, true, {\"maxHeight\": 99999, \"interactive\": true});\n",
              "//# sourceURL=js_c5e9f0ecd3"
            ],
            "text/plain": [
              "<IPython.core.display.Javascript at 0x55b03c4dc550>"
            ]
          },
          "metadata": {
            "tags": []
          }
        },
        {
          "output_type": "display_data",
          "data": {
            "application/javascript": [
              "window[\"e7a43348-39a8-11e7-8a58-001a114a4d3c\"] = colab.output.setOutputHeight(-1, true, {\"maxHeight\": 99999, \"interactive\": true});\n",
              "//# sourceURL=js_96d3863110"
            ],
            "text/plain": [
              "<IPython.core.display.Javascript at 0x55b03c4dc590>"
            ]
          },
          "metadata": {
            "tags": []
          }
        },
        {
          "output_type": "display_data",
          "data": {
            "application/javascript": [
              "window[\"e7a469bc-39a8-11e7-8a58-001a114a4d3c\"] = colab.output.setOutputHeight(-1, true, {\"maxHeight\": 99999, \"interactive\": true});\n",
              "//# sourceURL=js_91efbdf42e"
            ],
            "text/plain": [
              "<IPython.core.display.Javascript at 0x55b03c4dc610>"
            ]
          },
          "metadata": {
            "tags": []
          }
        },
        {
          "output_type": "display_data",
          "data": {
            "application/javascript": [
              "window[\"e7a49ffe-39a8-11e7-8a58-001a114a4d3c\"] = colab.output.setOutputHeight(-1, true, {\"maxHeight\": 99999, \"interactive\": true});\n",
              "//# sourceURL=js_b026f17b37"
            ],
            "text/plain": [
              "<IPython.core.display.Javascript at 0x55b03c4dc5d0>"
            ]
          },
          "metadata": {
            "tags": []
          }
        },
        {
          "output_type": "display_data",
          "data": {
            "application/javascript": [
              "window[\"e7a4ce48-39a8-11e7-8a58-001a114a4d3c\"] = colab.output.setOutputHeight(-1, true, {\"maxHeight\": 99999, \"interactive\": true});\n",
              "//# sourceURL=js_e47f597016"
            ],
            "text/plain": [
              "<IPython.core.display.Javascript at 0x55b03c4dc690>"
            ]
          },
          "metadata": {
            "tags": []
          }
        },
        {
          "output_type": "display_data",
          "data": {
            "application/javascript": [
              "window[\"e7a502dc-39a8-11e7-8a58-001a114a4d3c\"] = colab.output.setOutputHeight(-1, true, {\"maxHeight\": 99999, \"interactive\": true});\n",
              "//# sourceURL=js_f381075b6e"
            ],
            "text/plain": [
              "<IPython.core.display.Javascript at 0x55b03c4dc850>"
            ]
          },
          "metadata": {
            "tags": []
          }
        },
        {
          "output_type": "display_data",
          "data": {
            "application/javascript": [
              "window[\"e7bbc3f0-39a8-11e7-8a58-001a114a4d3c\"] = colab.output.setOutputHeight(-1, true, {\"maxHeight\": 99999, \"interactive\": true});\n",
              "//# sourceURL=js_a73455ca9d"
            ],
            "text/plain": [
              "<IPython.core.display.Javascript at 0x55b03c489190>"
            ]
          },
          "metadata": {
            "tags": []
          }
        },
        {
          "output_type": "display_data",
          "data": {
            "application/javascript": [
              "window[\"e7bc0716-39a8-11e7-8a58-001a114a4d3c\"] = colab.output.setOutputHeight(-1, true, {\"maxHeight\": 99999, \"interactive\": true});\n",
              "//# sourceURL=js_819100fa94"
            ],
            "text/plain": [
              "<IPython.core.display.Javascript at 0x55b03c489310>"
            ]
          },
          "metadata": {
            "tags": []
          }
        },
        {
          "output_type": "display_data",
          "data": {
            "application/javascript": [
              "window[\"e7bc4154-39a8-11e7-8a58-001a114a4d3c\"] = colab.output.setOutputHeight(-1, true, {\"maxHeight\": 99999, \"interactive\": true});\n",
              "//# sourceURL=js_30be0011b7"
            ],
            "text/plain": [
              "<IPython.core.display.Javascript at 0x55b03c489090>"
            ]
          },
          "metadata": {
            "tags": []
          }
        },
        {
          "output_type": "display_data",
          "data": {
            "application/javascript": [
              "window[\"e7bc7c14-39a8-11e7-8a58-001a114a4d3c\"] = colab.output.setOutputHeight(-1, true, {\"maxHeight\": 99999, \"interactive\": true});\n",
              "//# sourceURL=js_e2a59dcbaa"
            ],
            "text/plain": [
              "<IPython.core.display.Javascript at 0x55b03c4891d0>"
            ]
          },
          "metadata": {
            "tags": []
          }
        },
        {
          "output_type": "display_data",
          "data": {
            "application/javascript": [
              "window[\"e7bcb472-39a8-11e7-8a58-001a114a4d3c\"] = colab.output.setOutputHeight(-1, true, {\"maxHeight\": 99999, \"interactive\": true});\n",
              "//# sourceURL=js_51960bcf73"
            ],
            "text/plain": [
              "<IPython.core.display.Javascript at 0x55b03c489350>"
            ]
          },
          "metadata": {
            "tags": []
          }
        },
        {
          "output_type": "display_data",
          "data": {
            "application/javascript": [
              "window[\"e7bceadc-39a8-11e7-8a58-001a114a4d3c\"] = colab.output.setOutputHeight(-1, true, {\"maxHeight\": 99999, \"interactive\": true});\n",
              "//# sourceURL=js_679711d766"
            ],
            "text/plain": [
              "<IPython.core.display.Javascript at 0x55b03c489410>"
            ]
          },
          "metadata": {
            "tags": []
          }
        },
        {
          "output_type": "display_data",
          "data": {
            "application/javascript": [
              "window[\"e7bd20b0-39a8-11e7-8a58-001a114a4d3c\"] = colab.output.setOutputHeight(-1, true, {\"maxHeight\": 99999, \"interactive\": true});\n",
              "//# sourceURL=js_efb274cd7a"
            ],
            "text/plain": [
              "<IPython.core.display.Javascript at 0x55b03c489450>"
            ]
          },
          "metadata": {
            "tags": []
          }
        }
      ]
    },
    {
      "metadata": {
        "id": "4quXUuF0kCXg",
        "colab_type": "code",
        "colab": {
          "autoexec": {
            "startup": false,
            "wait_interval": 0
          },
          "output_extras": [
            {
              "item_id": 1
            },
            {
              "item_id": 2
            },
            {
              "item_id": 3
            },
            {
              "item_id": 4
            },
            {
              "item_id": 5
            },
            {
              "item_id": 6
            },
            {
              "item_id": 7
            }
          ]
        },
        "outputId": "a5384df6-4395-49f0-966d-753d74c937b3",
        "executionInfo": {
          "status": "ok",
          "timestamp": 1494878330339,
          "user_tz": 420,
          "elapsed": 229,
          "user": {
            "displayName": "Ming Chang",
            "photoUrl": "//lh5.googleusercontent.com/-el6fY6-Amo0/AAAAAAAAAAI/AAAAAAAAACo/MhvSx92eHL0/s50-c-k-no/photo.jpg",
            "userId": "109075119321458868914"
          }
        }
      },
      "source": [
        "dremel.SetLanguage('GoogleSQL')"
      ],
      "cell_type": "code",
      "execution_count": 9,
      "outputs": [
        {
          "output_type": "display_data",
          "data": {
            "application/javascript": [
              "window[\"ea081b5e-39a8-11e7-8a58-001a114a4d3c\"] = colab.output.setOutputHeight(-1, true, {\"maxHeight\": 99999, \"interactive\": true});\n",
              "//# sourceURL=js_ccaa42ab15"
            ],
            "text/plain": [
              "<IPython.core.display.Javascript at 0x55b037946b50>"
            ]
          },
          "metadata": {
            "tags": []
          }
        },
        {
          "output_type": "display_data",
          "data": {
            "application/javascript": [
              "window[\"ea086a8c-39a8-11e7-8a58-001a114a4d3c\"] = colab.output.setOutputHeight(-1, true, {\"maxHeight\": 99999, \"interactive\": true});\n",
              "//# sourceURL=js_4879bf9804"
            ],
            "text/plain": [
              "<IPython.core.display.Javascript at 0x55b037946550>"
            ]
          },
          "metadata": {
            "tags": []
          }
        },
        {
          "output_type": "display_data",
          "data": {
            "application/javascript": [
              "window[\"ea08bab4-39a8-11e7-8a58-001a114a4d3c\"] = colab.output.setOutputHeight(-1, true, {\"maxHeight\": 99999, \"interactive\": true});\n",
              "//# sourceURL=js_17916612c5"
            ],
            "text/plain": [
              "<IPython.core.display.Javascript at 0x55b037946ed0>"
            ]
          },
          "metadata": {
            "tags": []
          }
        },
        {
          "output_type": "display_data",
          "data": {
            "application/javascript": [
              "window[\"ea08fac4-39a8-11e7-8a58-001a114a4d3c\"] = colab.output.setOutputHeight(-1, true, {\"maxHeight\": 99999, \"interactive\": true});\n",
              "//# sourceURL=js_10e563d00a"
            ],
            "text/plain": [
              "<IPython.core.display.Javascript at 0x55b037946f50>"
            ]
          },
          "metadata": {
            "tags": []
          }
        },
        {
          "output_type": "display_data",
          "data": {
            "application/javascript": [
              "window[\"ea09353e-39a8-11e7-8a58-001a114a4d3c\"] = colab.output.setOutputHeight(-1, true, {\"maxHeight\": 99999, \"interactive\": true});\n",
              "//# sourceURL=js_66ac883739"
            ],
            "text/plain": [
              "<IPython.core.display.Javascript at 0x55b037946290>"
            ]
          },
          "metadata": {
            "tags": []
          }
        },
        {
          "output_type": "display_data",
          "data": {
            "application/javascript": [
              "window[\"ea097cb0-39a8-11e7-8a58-001a114a4d3c\"] = colab.output.setOutputHeight(-1, true, {\"maxHeight\": 99999, \"interactive\": true});\n",
              "//# sourceURL=js_a9b9ffeefd"
            ],
            "text/plain": [
              "<IPython.core.display.Javascript at 0x55b0379461d0>"
            ]
          },
          "metadata": {
            "tags": []
          }
        },
        {
          "output_type": "display_data",
          "data": {
            "application/javascript": [
              "window[\"ea09c0f8-39a8-11e7-8a58-001a114a4d3c\"] = colab.output.setOutputHeight(-1, true, {\"maxHeight\": 99999, \"interactive\": true});\n",
              "//# sourceURL=js_bdc11c9ef5"
            ],
            "text/plain": [
              "<IPython.core.display.Javascript at 0x55b037946b90>"
            ]
          },
          "metadata": {
            "tags": []
          }
        }
      ]
    },
    {
      "metadata": {
        "id": "gEff_IXD1DA3",
        "colab_type": "code",
        "colab": {
          "autoexec": {
            "startup": false,
            "wait_interval": 0
          }
        },
        "cellView": "form"
      },
      "source": [
        "#@title [Buyer Week Query] {display-mode: \"form\", vertical-output: true}\n",
        "%%substitute_globals\n",
        "%%dremel_query buyer_weeks\n",
        "\n",
        "select\n",
        "T1.date as date,\n",
        "T2.user_bucket as user_bucket,\n",
        "T2.target_id as target_id,\n",
        "COUNT(DISTINCT T1.user_id) as user_count,\n",
        "SUM(T1.buyer_weeks) as buyer_weeks\n",
        "from \n",
        "(\n",
        "  SELECT\n",
        "  user_id,\n",
        "  cast(report_date as string) as date,\n",
        "  ARRAY_LENGTH(ARRAY(\n",
        "    SELECT x FROM a.week_array_all AS x \n",
        "    #WHERE x<=LEAST(floor(date_diff(report_date, cast(\"{start_date}\" as date), DAY)/7), 7)\n",
        "    WHERE x <= 7 # we only count buyer weeks in rolling last 8 weeks\n",
        "  )) AS buyer_weeks\n",
        "  FROM play_analytics.buyer_weeks.all a \n",
        "  WHERE user_id is not null\n",
        "  AND report_date<=\"{end_date}\"\n",
        "  AND report_date>=\"{start_date}\"  \n",
        ") T1\n",
        "inner join\n",
        "(\n",
        "  SELECT\n",
        "  target_id,\n",
        "  user_bucket,\n",
        "  user_id\n",
        "  FROM mingchang.buyer_rollup.all\n",
        "  WHERE target_id IN ({target_ids})\n",
        "  AND Date>=\"{start_date}\"\n",
        "  AND Date<=\"{end_date}\"\n",
        "  {country_filter}\n",
        "  GROUP BY 1,2,3\n",
        ") T2\n",
        "on T1.user_id=T2.user_id\n",
        "GROUP BY 1,2,3\n",
        "ORDER BY 1,2,3;"
      ],
      "cell_type": "code",
      "execution_count": 0,
      "outputs": []
    },
    {
      "metadata": {
        "id": "96QyNqitkKns",
        "colab_type": "code",
        "colab": {
          "autoexec": {
            "startup": false,
            "wait_interval": 0
          },
          "output_extras": [
            {
              "item_id": 1
            },
            {
              "item_id": 2
            },
            {
              "item_id": 3
            },
            {
              "item_id": 4
            },
            {
              "item_id": 5
            },
            {
              "item_id": 6
            },
            {
              "item_id": 7
            }
          ]
        },
        "outputId": "83e63dad-ee84-48de-b4cb-ba0f5c9fda24",
        "executionInfo": {
          "status": "ok",
          "timestamp": 1494878572075,
          "user_tz": 420,
          "elapsed": 2066,
          "user": {
            "displayName": "Ming Chang",
            "photoUrl": "//lh5.googleusercontent.com/-el6fY6-Amo0/AAAAAAAAAAI/AAAAAAAAACo/MhvSx92eHL0/s50-c-k-no/photo.jpg",
            "userId": "109075119321458868914"
          }
        }
      },
      "source": [
        "dremel.SetLanguage('DremelSQL')"
      ],
      "cell_type": "code",
      "execution_count": 11,
      "outputs": [
        {
          "output_type": "display_data",
          "data": {
            "application/javascript": [
              "window[\"799125a4-39a9-11e7-8a58-001a114a4d3c\"] = colab.output.setOutputHeight(-1, true, {\"maxHeight\": 99999, \"interactive\": true});\n",
              "//# sourceURL=js_cb9ad7c2b9"
            ],
            "text/plain": [
              "<IPython.core.display.Javascript at 0x55b03c566b50>"
            ]
          },
          "metadata": {
            "tags": []
          }
        },
        {
          "output_type": "display_data",
          "data": {
            "application/javascript": [
              "window[\"79916028-39a9-11e7-8a58-001a114a4d3c\"] = colab.output.setOutputHeight(-1, true, {\"maxHeight\": 99999, \"interactive\": true});\n",
              "//# sourceURL=js_c98a54c59d"
            ],
            "text/plain": [
              "<IPython.core.display.Javascript at 0x55b03c566f10>"
            ]
          },
          "metadata": {
            "tags": []
          }
        },
        {
          "output_type": "display_data",
          "data": {
            "application/javascript": [
              "window[\"79919124-39a9-11e7-8a58-001a114a4d3c\"] = colab.output.setOutputHeight(-1, true, {\"maxHeight\": 99999, \"interactive\": true});\n",
              "//# sourceURL=js_f9e5dc6022"
            ],
            "text/plain": [
              "<IPython.core.display.Javascript at 0x55b03c489790>"
            ]
          },
          "metadata": {
            "tags": []
          }
        },
        {
          "output_type": "display_data",
          "data": {
            "application/javascript": [
              "window[\"7991cea0-39a9-11e7-8a58-001a114a4d3c\"] = colab.output.setOutputHeight(-1, true, {\"maxHeight\": 99999, \"interactive\": true});\n",
              "//# sourceURL=js_17686e0042"
            ],
            "text/plain": [
              "<IPython.core.display.Javascript at 0x55b03c489a10>"
            ]
          },
          "metadata": {
            "tags": []
          }
        },
        {
          "output_type": "display_data",
          "data": {
            "application/javascript": [
              "window[\"79920654-39a9-11e7-8a58-001a114a4d3c\"] = colab.output.setOutputHeight(-1, true, {\"maxHeight\": 99999, \"interactive\": true});\n",
              "//# sourceURL=js_f5be86b1b8"
            ],
            "text/plain": [
              "<IPython.core.display.Javascript at 0x55b03c4895d0>"
            ]
          },
          "metadata": {
            "tags": []
          }
        },
        {
          "output_type": "display_data",
          "data": {
            "application/javascript": [
              "window[\"79923c00-39a9-11e7-8a58-001a114a4d3c\"] = colab.output.setOutputHeight(-1, true, {\"maxHeight\": 99999, \"interactive\": true});\n",
              "//# sourceURL=js_704613c138"
            ],
            "text/plain": [
              "<IPython.core.display.Javascript at 0x55b03c489250>"
            ]
          },
          "metadata": {
            "tags": []
          }
        },
        {
          "output_type": "display_data",
          "data": {
            "application/javascript": [
              "window[\"79926ebe-39a9-11e7-8a58-001a114a4d3c\"] = colab.output.setOutputHeight(-1, true, {\"maxHeight\": 99999, \"interactive\": true});\n",
              "//# sourceURL=js_e53fe95031"
            ],
            "text/plain": [
              "<IPython.core.display.Javascript at 0x55b03c489210>"
            ]
          },
          "metadata": {
            "tags": []
          }
        }
      ]
    },
    {
      "metadata": {
        "id": "yPQ0Idpstv3L",
        "colab_type": "code",
        "colab": {
          "autoexec": {
            "startup": false,
            "wait_interval": 0
          }
        },
        "cellView": "form"
      },
      "source": [
        "#@title [NPU Query] {display-mode: \"form\", vertical-output: true}\n",
        "%%substitute_globals\n",
        "%%dremel_query buyers\n",
        "\n",
        "SELECT\n",
        "  T1.date as date,\n",
        "  T1.user_bucket as user_bucket,\n",
        "  T1.target_id as target_id,\n",
        "  COUNT(DISTINCT T1.user_id) AS npu_count\n",
        "FROM\n",
        "(\n",
        "  SELECT\n",
        "  Date,\n",
        "  ip_country,\n",
        "  target_id,\n",
        "  user_bucket,\n",
        "  user_id,\n",
        "  FROM mingchang.buyer_rollup.{start_end_date_string}\n",
        "  WHERE target_id IN ({target_ids})\n",
        "  GROUP BY 1,2,3,4,5\n",
        ") T1\n",
        "INNER JOIN (\n",
        "  select user_id,\n",
        "  from mingchang.npu_by_date\n",
        "  where fp_date >= \"{start_date}\"\n",
        "  GROUP BY 1\n",
        ") T2\n",
        "ON T1.user_id=T2.user_id\n",
        "where date is not NULL\n",
        "{country_filter}\n",
        "GROUP BY 1,2,3\n",
        "ORDER BY 1,2,3;"
      ],
      "cell_type": "code",
      "execution_count": 0,
      "outputs": []
    },
    {
      "metadata": {
        "id": "6bTOhu0It2oP",
        "colab_type": "code",
        "colab": {
          "autoexec": {
            "startup": false,
            "wait_interval": 0
          },
          "output_extras": [
            {
              "item_id": 1
            },
            {
              "item_id": 2
            },
            {
              "item_id": 3
            },
            {
              "item_id": 4
            },
            {
              "item_id": 5
            },
            {
              "item_id": 6
            },
            {
              "item_id": 7
            },
            {
              "item_id": 9
            },
            {
              "item_id": 10
            },
            {
              "item_id": 11
            },
            {
              "item_id": 12
            }
          ]
        },
        "cellView": "form",
        "outputId": "8464ccde-2efa-4434-ea8c-04b0d43555a2",
        "executionInfo": {
          "status": "ok",
          "timestamp": 1494878671964,
          "user_tz": 420,
          "elapsed": 2927,
          "user": {
            "displayName": "Ming Chang",
            "photoUrl": "//lh5.googleusercontent.com/-el6fY6-Amo0/AAAAAAAAAAI/AAAAAAAAACo/MhvSx92eHL0/s50-c-k-no/photo.jpg",
            "userId": "109075119321458868914"
          }
        }
      },
      "source": [
        "#@title [NPU] {vertical-output: true}\n",
        "\n",
        "PlotAll(\"New paying user\",\n",
        "          buyers.date,\n",
        "          buyers.user_bucket,\n",
        "          buyers.target_id, \n",
        "          buyers.npu_count,\n",
        "          pandas.Series([0.05] * len(buyers.npu_count)))"
      ],
      "cell_type": "code",
      "execution_count": 13,
      "outputs": [
        {
          "output_type": "display_data",
          "data": {
            "application/javascript": [
              "window[\"b4b96088-39a9-11e7-8a58-001a114a4d3c\"] = colab.output.setOutputHeight(-1, true, {\"maxHeight\": 99999, \"interactive\": true});\n",
              "//# sourceURL=js_d837abbe84"
            ],
            "text/plain": [
              "<IPython.core.display.Javascript at 0x55b03c5669d0>"
            ]
          },
          "metadata": {
            "tags": []
          }
        },
        {
          "output_type": "display_data",
          "data": {
            "application/javascript": [
              "window[\"b4b9ac82-39a9-11e7-8a58-001a114a4d3c\"] = colab.output.setOutputHeight(-1, true, {\"maxHeight\": 99999, \"interactive\": true});\n",
              "//# sourceURL=js_25b114cb79"
            ],
            "text/plain": [
              "<IPython.core.display.Javascript at 0x55b03c566e50>"
            ]
          },
          "metadata": {
            "tags": []
          }
        },
        {
          "output_type": "display_data",
          "data": {
            "application/javascript": [
              "window[\"b4b9f034-39a9-11e7-8a58-001a114a4d3c\"] = colab.output.setOutputHeight(-1, true, {\"maxHeight\": 99999, \"interactive\": true});\n",
              "//# sourceURL=js_1cffd33c30"
            ],
            "text/plain": [
              "<IPython.core.display.Javascript at 0x55b03c566b50>"
            ]
          },
          "metadata": {
            "tags": []
          }
        },
        {
          "output_type": "display_data",
          "data": {
            "application/javascript": [
              "window[\"b4ba3526-39a9-11e7-8a58-001a114a4d3c\"] = colab.output.setOutputHeight(-1, true, {\"maxHeight\": 99999, \"interactive\": true});\n",
              "//# sourceURL=js_7fc909494f"
            ],
            "text/plain": [
              "<IPython.core.display.Javascript at 0x55b03c566b10>"
            ]
          },
          "metadata": {
            "tags": []
          }
        },
        {
          "output_type": "display_data",
          "data": {
            "application/javascript": [
              "window[\"b4ba98fe-39a9-11e7-8a58-001a114a4d3c\"] = colab.output.setOutputHeight(-1, true, {\"maxHeight\": 99999, \"interactive\": true});\n",
              "//# sourceURL=js_47dbed3b15"
            ],
            "text/plain": [
              "<IPython.core.display.Javascript at 0x55b03c566a90>"
            ]
          },
          "metadata": {
            "tags": []
          }
        },
        {
          "output_type": "display_data",
          "data": {
            "application/javascript": [
              "window[\"b4bad116-39a9-11e7-8a58-001a114a4d3c\"] = colab.output.setOutputHeight(-1, true, {\"maxHeight\": 99999, \"interactive\": true});\n",
              "//# sourceURL=js_300fcc300e"
            ],
            "text/plain": [
              "<IPython.core.display.Javascript at 0x55b037946290>"
            ]
          },
          "metadata": {
            "tags": []
          }
        },
        {
          "output_type": "display_data",
          "data": {
            "application/javascript": [
              "window[\"b4bb03ca-39a9-11e7-8a58-001a114a4d3c\"] = colab.output.setOutputHeight(-1, true, {\"maxHeight\": 99999, \"interactive\": true});\n",
              "//# sourceURL=js_1b459b18af"
            ],
            "text/plain": [
              "<IPython.core.display.Javascript at 0x55b037946550>"
            ]
          },
          "metadata": {
            "tags": []
          }
        },
        {
          "output_type": "stream",
          "text": [
            "metric: New paying user\n",
            "Cumulative uplift for group 12631589: -0.32%\n",
            "Cumulative uplift for group 12631589: -1.78%\n",
            "Treatment 12631589\n",
            "  Jackkinfe confidence interval: [-3.12%, -0.43%]\n",
            "  Cumulative uplift: -1.78%\n",
            "  Statistical significance: YES\n"
          ],
          "name": "stdout"
        },
        {
          "output_type": "display_data",
          "data": {
            "image/png": "[encoded data removed]",
            "text/plain": [
              "<matplotlib.figure.Figure at 0x55b03b5dfe10>"
            ]
          },
          "metadata": {
            "tags": []
          }
        },
        {
          "output_type": "display_data",
          "data": {
            "image/png": "[encoded data removed]",
            "text/plain": [
              "<matplotlib.figure.Figure at 0x55b03cfb8650>"
            ]
          },
          "metadata": {
            "tags": []
          }
        },
        {
          "output_type": "display_data",
          "data": {
            "image/png": "[encoded data removed]",
            "text/plain": [
              "<matplotlib.figure.Figure at 0x55b03cfa4110>"
            ]
          },
          "metadata": {
            "tags": []
          }
        }
      ]
    },
    {
      "metadata": {
        "id": "27VrfUl_PVyn",
        "colab_type": "code",
        "colab": {
          "autoexec": {
            "startup": false,
            "wait_interval": 0
          },
          "output_extras": [
            {
              "item_id": 1
            },
            {
              "item_id": 2
            },
            {
              "item_id": 3
            },
            {
              "item_id": 4
            },
            {
              "item_id": 5
            },
            {
              "item_id": 6
            },
            {
              "item_id": 7
            },
            {
              "item_id": 8
            },
            {
              "item_id": 9
            },
            {
              "item_id": 10
            }
          ]
        },
        "cellView": "form",
        "outputId": "c9c391e0-dae6-4c6e-f3b9-f17c88891495",
        "executionInfo": {
          "status": "ok",
          "timestamp": 1494878674003,
          "user_tz": 420,
          "elapsed": 1977,
          "user": {
            "displayName": "Ming Chang",
            "photoUrl": "//lh5.googleusercontent.com/-el6fY6-Amo0/AAAAAAAAAAI/AAAAAAAAACo/MhvSx92eHL0/s50-c-k-no/photo.jpg",
            "userId": "109075119321458868914"
          }
        }
      },
      "source": [
        "#@title [Buyer weeks] {vertical-output: true}\n",
        "\n",
        "PlotBuyerWeek(\"Buyer Week\",\n",
        "          buyer_weeks.date, \n",
        "          buyer_weeks.user_bucket,\n",
        "          buyer_weeks.target_id,\n",
        "          buyer_weeks.buyer_weeks,\n",
        "          pandas.Series([0.05] * len(buyer_weeks.buyer_weeks)))"
      ],
      "cell_type": "code",
      "execution_count": 14,
      "outputs": [
        {
          "output_type": "display_data",
          "data": {
            "application/javascript": [
              "window[\"b65cc484-39a9-11e7-8a58-001a114a4d3c\"] = colab.output.setOutputHeight(-1, true, {\"maxHeight\": 99999, \"interactive\": true});\n",
              "//# sourceURL=js_00c9f2f508"
            ],
            "text/plain": [
              "<IPython.core.display.Javascript at 0x55b03c566950>"
            ]
          },
          "metadata": {
            "tags": []
          }
        },
        {
          "output_type": "display_data",
          "data": {
            "application/javascript": [
              "window[\"b65d2ca8-39a9-11e7-8a58-001a114a4d3c\"] = colab.output.setOutputHeight(-1, true, {\"maxHeight\": 99999, \"interactive\": true});\n",
              "//# sourceURL=js_ffc8bf39b9"
            ],
            "text/plain": [
              "<IPython.core.display.Javascript at 0x55b037946f50>"
            ]
          },
          "metadata": {
            "tags": []
          }
        },
        {
          "output_type": "display_data",
          "data": {
            "application/javascript": [
              "window[\"b65d834c-39a9-11e7-8a58-001a114a4d3c\"] = colab.output.setOutputHeight(-1, true, {\"maxHeight\": 99999, \"interactive\": true});\n",
              "//# sourceURL=js_8a1db4504e"
            ],
            "text/plain": [
              "<IPython.core.display.Javascript at 0x55b0379461d0>"
            ]
          },
          "metadata": {
            "tags": []
          }
        },
        {
          "output_type": "display_data",
          "data": {
            "application/javascript": [
              "window[\"b65dc370-39a9-11e7-8a58-001a114a4d3c\"] = colab.output.setOutputHeight(-1, true, {\"maxHeight\": 99999, \"interactive\": true});\n",
              "//# sourceURL=js_9f2e57bb78"
            ],
            "text/plain": [
              "<IPython.core.display.Javascript at 0x55b037946690>"
            ]
          },
          "metadata": {
            "tags": []
          }
        },
        {
          "output_type": "display_data",
          "data": {
            "application/javascript": [
              "window[\"b65e00a6-39a9-11e7-8a58-001a114a4d3c\"] = colab.output.setOutputHeight(-1, true, {\"maxHeight\": 99999, \"interactive\": true});\n",
              "//# sourceURL=js_9ae82f61fe"
            ],
            "text/plain": [
              "<IPython.core.display.Javascript at 0x55b037946410>"
            ]
          },
          "metadata": {
            "tags": []
          }
        },
        {
          "output_type": "display_data",
          "data": {
            "application/javascript": [
              "window[\"b65e3ef4-39a9-11e7-8a58-001a114a4d3c\"] = colab.output.setOutputHeight(-1, true, {\"maxHeight\": 99999, \"interactive\": true});\n",
              "//# sourceURL=js_1529be0198"
            ],
            "text/plain": [
              "<IPython.core.display.Javascript at 0x55b037946b90>"
            ]
          },
          "metadata": {
            "tags": []
          }
        },
        {
          "output_type": "display_data",
          "data": {
            "application/javascript": [
              "window[\"b65e7e46-39a9-11e7-8a58-001a114a4d3c\"] = colab.output.setOutputHeight(-1, true, {\"maxHeight\": 99999, \"interactive\": true});\n",
              "//# sourceURL=js_ef005504e9"
            ],
            "text/plain": [
              "<IPython.core.display.Javascript at 0x55b037946450>"
            ]
          },
          "metadata": {
            "tags": []
          }
        },
        {
          "output_type": "stream",
          "text": [
            "metric: Buyer Week\n",
            "Cumulative uplift for group 12631589: 0.02%\n",
            "Treatment 12631589\n",
            "  Jackkinfe confidence interval: [-0.28%, 0.32%]\n",
            "  Cumulative uplift: 0.02%\n",
            "  Statistical significance: NO\n"
          ],
          "name": "stdout"
        },
        {
          "output_type": "display_data",
          "data": {
            "image/png": "[encoded data removed]",
            "text/plain": [
              "<matplotlib.figure.Figure at 0x55b03d082d90>"
            ]
          },
          "metadata": {
            "tags": []
          }
        },
        {
          "output_type": "display_data",
          "data": {
            "image/png": "[encoded data removed]",
            "text/plain": [
              "<matplotlib.figure.Figure at 0x55b03b5dfed0>"
            ]
          },
          "metadata": {
            "tags": []
          }
        }
      ]
    }
  ]
}