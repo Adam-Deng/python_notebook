{
 "cells": [
  {
   "cell_type": "code",
   "execution_count": 1,
   "metadata": {
    "collapsed": true
   },
   "outputs": [],
   "source": [
    "# EDA"
   ]
  },
  {
   "cell_type": "code",
   "execution_count": 92,
   "metadata": {
    "collapsed": true
   },
   "outputs": [],
   "source": [
    "import numpy as np\n",
    "import pandas as pd\n",
    "import scipy.stats as stats\n",
    "import matplotlib.pyplot as plt\n",
    "%matplotlib inline\n",
    "import math"
   ]
  },
  {
   "cell_type": "code",
   "execution_count": 93,
   "metadata": {
    "collapsed": true
   },
   "outputs": [],
   "source": [
    "# data \n",
    "file_location = \"/Users/mingchang/Downloads/\"\n",
    "file_name = \"project_eda.csv\"\n",
    "my_data = pd.read_csv(file_location + file_name)"
   ]
  },
  {
   "cell_type": "code",
   "execution_count": 94,
   "metadata": {
    "collapsed": false
   },
   "outputs": [
    {
     "data": {
      "text/html": [
       "<div>\n",
       "<table border=\"1\" class=\"dataframe\">\n",
       "  <thead>\n",
       "    <tr style=\"text-align: right;\">\n",
       "      <th></th>\n",
       "      <th>user_id</th>\n",
       "      <th>total_spend</th>\n",
       "      <th>country</th>\n",
       "      <th>initial_fop_set</th>\n",
       "      <th>added_fop</th>\n",
       "      <th>added_card</th>\n",
       "      <th>added_dcb</th>\n",
       "      <th>added_pp</th>\n",
       "      <th>added_sv</th>\n",
       "      <th>is_npu</th>\n",
       "      <th>pre_bw</th>\n",
       "      <th>pf_before</th>\n",
       "      <th>reach_cart</th>\n",
       "      <th>click_buy</th>\n",
       "      <th>buy_success</th>\n",
       "    </tr>\n",
       "  </thead>\n",
       "  <tbody>\n",
       "    <tr>\n",
       "      <th>0</th>\n",
       "      <td>17382479401232549413</td>\n",
       "      <td>NaN</td>\n",
       "      <td>US</td>\n",
       "      <td>False</td>\n",
       "      <td>0</td>\n",
       "      <td>NaN</td>\n",
       "      <td>NaN</td>\n",
       "      <td>NaN</td>\n",
       "      <td>NaN</td>\n",
       "      <td>1</td>\n",
       "      <td>0</td>\n",
       "      <td>1</td>\n",
       "      <td>1.0</td>\n",
       "      <td>0.0</td>\n",
       "      <td>0.0</td>\n",
       "    </tr>\n",
       "    <tr>\n",
       "      <th>1</th>\n",
       "      <td>8857478083367093883</td>\n",
       "      <td>NaN</td>\n",
       "      <td>LB</td>\n",
       "      <td>False</td>\n",
       "      <td>0</td>\n",
       "      <td>NaN</td>\n",
       "      <td>NaN</td>\n",
       "      <td>NaN</td>\n",
       "      <td>NaN</td>\n",
       "      <td>1</td>\n",
       "      <td>0</td>\n",
       "      <td>1</td>\n",
       "      <td>1.0</td>\n",
       "      <td>0.0</td>\n",
       "      <td>0.0</td>\n",
       "    </tr>\n",
       "    <tr>\n",
       "      <th>2</th>\n",
       "      <td>16527362243999380659</td>\n",
       "      <td>NaN</td>\n",
       "      <td>TH</td>\n",
       "      <td>False</td>\n",
       "      <td>0</td>\n",
       "      <td>NaN</td>\n",
       "      <td>NaN</td>\n",
       "      <td>NaN</td>\n",
       "      <td>NaN</td>\n",
       "      <td>1</td>\n",
       "      <td>0</td>\n",
       "      <td>1</td>\n",
       "      <td>1.0</td>\n",
       "      <td>0.0</td>\n",
       "      <td>0.0</td>\n",
       "    </tr>\n",
       "    <tr>\n",
       "      <th>3</th>\n",
       "      <td>14023414775175861791</td>\n",
       "      <td>NaN</td>\n",
       "      <td>NaN</td>\n",
       "      <td>False</td>\n",
       "      <td>0</td>\n",
       "      <td>NaN</td>\n",
       "      <td>NaN</td>\n",
       "      <td>NaN</td>\n",
       "      <td>NaN</td>\n",
       "      <td>1</td>\n",
       "      <td>0</td>\n",
       "      <td>1</td>\n",
       "      <td>1.0</td>\n",
       "      <td>0.0</td>\n",
       "      <td>0.0</td>\n",
       "    </tr>\n",
       "    <tr>\n",
       "      <th>4</th>\n",
       "      <td>4636490359695486029</td>\n",
       "      <td>NaN</td>\n",
       "      <td>US</td>\n",
       "      <td>False</td>\n",
       "      <td>0</td>\n",
       "      <td>NaN</td>\n",
       "      <td>NaN</td>\n",
       "      <td>NaN</td>\n",
       "      <td>NaN</td>\n",
       "      <td>1</td>\n",
       "      <td>0</td>\n",
       "      <td>1</td>\n",
       "      <td>1.0</td>\n",
       "      <td>0.0</td>\n",
       "      <td>0.0</td>\n",
       "    </tr>\n",
       "  </tbody>\n",
       "</table>\n",
       "</div>"
      ],
      "text/plain": [
       "                user_id  total_spend country initial_fop_set  added_fop  \\\n",
       "0  17382479401232549413          NaN      US           False          0   \n",
       "1   8857478083367093883          NaN      LB           False          0   \n",
       "2  16527362243999380659          NaN      TH           False          0   \n",
       "3  14023414775175861791          NaN     NaN           False          0   \n",
       "4   4636490359695486029          NaN      US           False          0   \n",
       "\n",
       "   added_card  added_dcb  added_pp  added_sv  is_npu  pre_bw  pf_before  \\\n",
       "0         NaN        NaN       NaN       NaN       1       0          1   \n",
       "1         NaN        NaN       NaN       NaN       1       0          1   \n",
       "2         NaN        NaN       NaN       NaN       1       0          1   \n",
       "3         NaN        NaN       NaN       NaN       1       0          1   \n",
       "4         NaN        NaN       NaN       NaN       1       0          1   \n",
       "\n",
       "   reach_cart  click_buy  buy_success  \n",
       "0         1.0        0.0          0.0  \n",
       "1         1.0        0.0          0.0  \n",
       "2         1.0        0.0          0.0  \n",
       "3         1.0        0.0          0.0  \n",
       "4         1.0        0.0          0.0  "
      ]
     },
     "execution_count": 94,
     "metadata": {},
     "output_type": "execute_result"
    }
   ],
   "source": [
    "my_data.head()"
   ]
  },
  {
   "cell_type": "code",
   "execution_count": 70,
   "metadata": {
    "collapsed": false
   },
   "outputs": [
    {
     "data": {
      "text/plain": [
       "(564647, 15)"
      ]
     },
     "execution_count": 70,
     "metadata": {},
     "output_type": "execute_result"
    }
   ],
   "source": [
    "my_data.shape"
   ]
  },
  {
   "cell_type": "code",
   "execution_count": 73,
   "metadata": {
    "collapsed": false
   },
   "outputs": [
    {
     "data": {
      "text/html": [
       "<div>\n",
       "<table border=\"1\" class=\"dataframe\">\n",
       "  <thead>\n",
       "    <tr style=\"text-align: right;\">\n",
       "      <th></th>\n",
       "      <th>total_spend</th>\n",
       "      <th>added_fop</th>\n",
       "      <th>added_card</th>\n",
       "      <th>added_dcb</th>\n",
       "      <th>added_pp</th>\n",
       "      <th>added_sv</th>\n",
       "      <th>is_npu</th>\n",
       "      <th>pre_bw</th>\n",
       "      <th>pf_before</th>\n",
       "      <th>reach_cart</th>\n",
       "      <th>click_buy</th>\n",
       "      <th>buy_success</th>\n",
       "    </tr>\n",
       "  </thead>\n",
       "  <tbody>\n",
       "    <tr>\n",
       "      <th>count</th>\n",
       "      <td>88804.000000</td>\n",
       "      <td>564647.000000</td>\n",
       "      <td>169961.000000</td>\n",
       "      <td>169961.000000</td>\n",
       "      <td>169961.000000</td>\n",
       "      <td>169961.000000</td>\n",
       "      <td>564647.000000</td>\n",
       "      <td>564647.000000</td>\n",
       "      <td>564647.000000</td>\n",
       "      <td>493835.000000</td>\n",
       "      <td>493835.000000</td>\n",
       "      <td>493835.000000</td>\n",
       "    </tr>\n",
       "    <tr>\n",
       "      <th>mean</th>\n",
       "      <td>67.989511</td>\n",
       "      <td>0.301004</td>\n",
       "      <td>0.548573</td>\n",
       "      <td>0.479581</td>\n",
       "      <td>0.099905</td>\n",
       "      <td>0.184895</td>\n",
       "      <td>0.731891</td>\n",
       "      <td>0.621677</td>\n",
       "      <td>0.874591</td>\n",
       "      <td>0.933656</td>\n",
       "      <td>0.257752</td>\n",
       "      <td>0.211109</td>\n",
       "    </tr>\n",
       "    <tr>\n",
       "      <th>std</th>\n",
       "      <td>214.171619</td>\n",
       "      <td>0.458695</td>\n",
       "      <td>0.497637</td>\n",
       "      <td>0.499584</td>\n",
       "      <td>0.299875</td>\n",
       "      <td>0.388214</td>\n",
       "      <td>0.442975</td>\n",
       "      <td>1.701927</td>\n",
       "      <td>0.331183</td>\n",
       "      <td>0.248883</td>\n",
       "      <td>0.437397</td>\n",
       "      <td>0.408096</td>\n",
       "    </tr>\n",
       "    <tr>\n",
       "      <th>min</th>\n",
       "      <td>0.002991</td>\n",
       "      <td>0.000000</td>\n",
       "      <td>0.000000</td>\n",
       "      <td>0.000000</td>\n",
       "      <td>0.000000</td>\n",
       "      <td>0.000000</td>\n",
       "      <td>0.000000</td>\n",
       "      <td>0.000000</td>\n",
       "      <td>0.000000</td>\n",
       "      <td>0.000000</td>\n",
       "      <td>0.000000</td>\n",
       "      <td>0.000000</td>\n",
       "    </tr>\n",
       "    <tr>\n",
       "      <th>25%</th>\n",
       "      <td>NaN</td>\n",
       "      <td>0.000000</td>\n",
       "      <td>NaN</td>\n",
       "      <td>NaN</td>\n",
       "      <td>NaN</td>\n",
       "      <td>NaN</td>\n",
       "      <td>0.000000</td>\n",
       "      <td>0.000000</td>\n",
       "      <td>1.000000</td>\n",
       "      <td>NaN</td>\n",
       "      <td>NaN</td>\n",
       "      <td>NaN</td>\n",
       "    </tr>\n",
       "    <tr>\n",
       "      <th>50%</th>\n",
       "      <td>NaN</td>\n",
       "      <td>0.000000</td>\n",
       "      <td>NaN</td>\n",
       "      <td>NaN</td>\n",
       "      <td>NaN</td>\n",
       "      <td>NaN</td>\n",
       "      <td>1.000000</td>\n",
       "      <td>0.000000</td>\n",
       "      <td>1.000000</td>\n",
       "      <td>NaN</td>\n",
       "      <td>NaN</td>\n",
       "      <td>NaN</td>\n",
       "    </tr>\n",
       "    <tr>\n",
       "      <th>75%</th>\n",
       "      <td>NaN</td>\n",
       "      <td>1.000000</td>\n",
       "      <td>NaN</td>\n",
       "      <td>NaN</td>\n",
       "      <td>NaN</td>\n",
       "      <td>NaN</td>\n",
       "      <td>1.000000</td>\n",
       "      <td>0.000000</td>\n",
       "      <td>1.000000</td>\n",
       "      <td>NaN</td>\n",
       "      <td>NaN</td>\n",
       "      <td>NaN</td>\n",
       "    </tr>\n",
       "    <tr>\n",
       "      <th>max</th>\n",
       "      <td>22217.620000</td>\n",
       "      <td>1.000000</td>\n",
       "      <td>1.000000</td>\n",
       "      <td>1.000000</td>\n",
       "      <td>1.000000</td>\n",
       "      <td>1.000000</td>\n",
       "      <td>1.000000</td>\n",
       "      <td>8.000000</td>\n",
       "      <td>1.000000</td>\n",
       "      <td>1.000000</td>\n",
       "      <td>1.000000</td>\n",
       "      <td>1.000000</td>\n",
       "    </tr>\n",
       "  </tbody>\n",
       "</table>\n",
       "</div>"
      ],
      "text/plain": [
       "        total_spend      added_fop     added_card      added_dcb  \\\n",
       "count  88804.000000  564647.000000  169961.000000  169961.000000   \n",
       "mean      67.989511       0.301004       0.548573       0.479581   \n",
       "std      214.171619       0.458695       0.497637       0.499584   \n",
       "min        0.002991       0.000000       0.000000       0.000000   \n",
       "25%             NaN       0.000000            NaN            NaN   \n",
       "50%             NaN       0.000000            NaN            NaN   \n",
       "75%             NaN       1.000000            NaN            NaN   \n",
       "max    22217.620000       1.000000       1.000000       1.000000   \n",
       "\n",
       "            added_pp       added_sv         is_npu         pre_bw  \\\n",
       "count  169961.000000  169961.000000  564647.000000  564647.000000   \n",
       "mean        0.099905       0.184895       0.731891       0.621677   \n",
       "std         0.299875       0.388214       0.442975       1.701927   \n",
       "min         0.000000       0.000000       0.000000       0.000000   \n",
       "25%              NaN            NaN       0.000000       0.000000   \n",
       "50%              NaN            NaN       1.000000       0.000000   \n",
       "75%              NaN            NaN       1.000000       0.000000   \n",
       "max         1.000000       1.000000       1.000000       8.000000   \n",
       "\n",
       "           pf_before     reach_cart      click_buy    buy_success  \n",
       "count  564647.000000  493835.000000  493835.000000  493835.000000  \n",
       "mean        0.874591       0.933656       0.257752       0.211109  \n",
       "std         0.331183       0.248883       0.437397       0.408096  \n",
       "min         0.000000       0.000000       0.000000       0.000000  \n",
       "25%         1.000000            NaN            NaN            NaN  \n",
       "50%         1.000000            NaN            NaN            NaN  \n",
       "75%         1.000000            NaN            NaN            NaN  \n",
       "max         1.000000       1.000000       1.000000       1.000000  "
      ]
     },
     "execution_count": 73,
     "metadata": {},
     "output_type": "execute_result"
    }
   ],
   "source": [
    "# summary statistics\n",
    "my_data.describe()"
   ]
  },
  {
   "cell_type": "code",
   "execution_count": 49,
   "metadata": {
    "collapsed": false
   },
   "outputs": [
    {
     "data": {
      "text/plain": [
       "67.98951086203343"
      ]
     },
     "execution_count": 49,
     "metadata": {},
     "output_type": "execute_result"
    }
   ],
   "source": [
    "# mean: center metric\n",
    "def mean(x):\n",
    "    return float(sum(x)) / len(x)\n",
    "\n",
    "np.mean(my_data.total_spend)"
   ]
  },
  {
   "cell_type": "code",
   "execution_count": 50,
   "metadata": {
    "collapsed": false
   },
   "outputs": [
    {
     "data": {
      "text/plain": [
       "214.1704132866525"
      ]
     },
     "execution_count": 50,
     "metadata": {},
     "output_type": "execute_result"
    }
   ],
   "source": [
    "# variance: how data spreads out\n",
    "def stddev(x):\n",
    "    m = mean(x)\n",
    "    return math.pow(sum((i - m)**2 for i in X) / len(X), 0.5) # list comprehension\n",
    "\n",
    "np.std(my_data.total_spend)"
   ]
  },
  {
   "cell_type": "code",
   "execution_count": 74,
   "metadata": {
    "collapsed": false
   },
   "outputs": [
    {
     "name": "stdout",
     "output_type": "stream",
     "text": [
      "15.88\n",
      "[  2.99100000e-03   4.99000000e+00   1.58800000e+01   5.49189125e+01\n",
      "   7.75751500e+02   2.22176200e+04]\n"
     ]
    }
   ],
   "source": [
    "# quantiles\n",
    "# median\n",
    "# question: when to use mean, when to use median?\n",
    "def median(x):\n",
    "    s = sorted(x)\n",
    "    n = len(x)\n",
    "    lower_mid = int(math.floor((n-1)/2.))\n",
    "    upper_mid = int(math.ceil((n-1)/2.))\n",
    "    return (s[lower_mid], s[upper_mid])\n",
    "\n",
    "#np.median(my_data.total_spend)\n",
    "a= np.nanmedian(my_data.total_spend)\n",
    "print a \n",
    "# quantile\n",
    "def quantile_range(q, x):\n",
    "    s = sorted(x)\n",
    "    n = len(x)\n",
    "    upper_d = int(math.ceil(q * (n + 1)))\n",
    "    lower_d = int(math.floor(q * (n + 1)))\n",
    "    # edge cases\n",
    "    if upper_d == 0: upper_d = 1\n",
    "    if upper_d == n+1: upper_d = n\n",
    "    if lower_d == 0: lower_d = 1\n",
    "    if lower_d == n+1: lower_d = n\n",
    "    return (S[lower_d-1], S[upper_d-1])\n",
    "\n",
    "#np.percentile(my_data.total_spend, [0, 25, 50, 75, 99, 100])\n",
    "b = np.nanpercentile(my_data.total_spend, [0, 25, 50, 75, 99, 100])\n",
    "print b"
   ]
  },
  {
   "cell_type": "code",
   "execution_count": 81,
   "metadata": {
    "collapsed": false
   },
   "outputs": [
    {
     "data": {
      "text/plain": [
       "count    88804.000000\n",
       "mean        67.989511\n",
       "std        214.171619\n",
       "min          0.002991\n",
       "25%          4.990000\n",
       "50%         15.880000\n",
       "75%         54.918913\n",
       "max      22217.620000\n",
       "Name: total_spend, dtype: float64"
      ]
     },
     "execution_count": 81,
     "metadata": {},
     "output_type": "execute_result"
    }
   ],
   "source": [
    "# for convinience, remove nan value\n",
    "total_spend = my_data.total_spend\n",
    "total_spend = total_spend.dropna()\n",
    "#total_spend.fillna(0.0)\n",
    "total_spend.describe()"
   ]
  },
  {
   "cell_type": "code",
   "execution_count": null,
   "metadata": {
    "collapsed": false
   },
   "outputs": [],
   "source": [
    "# skewness\n",
    "stats.skew(total_spend) # skewness>0 -> right skewed -> mean > median"
   ]
  },
  {
   "cell_type": "code",
   "execution_count": 88,
   "metadata": {
    "collapsed": false
   },
   "outputs": [
    {
     "data": {
      "text/plain": [
       "(array([  6.,  11.,  27.,  22.,  13.,   9.,   8.,   2.,   0.,   2.]),\n",
       " array([  43.13576444,   50.43874901,   57.74173357,   65.04471814,\n",
       "          72.3477027 ,   79.65068727,   86.95367184,   94.2566564 ,\n",
       "         101.55964097,  108.86262553,  116.1656101 ]),\n",
       " <a list of 10 Patch objects>)"
      ]
     },
     "execution_count": 88,
     "metadata": {},
     "output_type": "execute_result"
    },
    {
     "data": {
      "image/png": "[encoded data removed]",
      "text/plain": [
       "<matplotlib.figure.Figure at 0x1171f8d10>"
      ]
     },
     "metadata": {},
     "output_type": "display_data"
    }
   ],
   "source": [
    "# CLT: our data -> normal\n",
    "def get_sample(data, n):\n",
    "    return np.random.choice(data, n, replace=False)\n",
    "\n",
    "def sample_mean(x):\n",
    "    return np.mean(x) / n\n",
    "\n",
    "samples = []\n",
    "\n",
    "N = 200\n",
    "for i in range(100):\n",
    "    this_sample = get_sample(total_spend, N)\n",
    "    samples.append(np.mean(this_sample))\n",
    "\n",
    "plt.hist(samples)"
   ]
  },
  {
   "cell_type": "code",
   "execution_count": 2,
   "metadata": {
    "collapsed": true
   },
   "outputs": [],
   "source": [
    "# variable transformation\n",
    "# binary -> categorical\n",
    "# wide <-> long"
   ]
  },
  {
   "cell_type": "code",
   "execution_count": 4,
   "metadata": {
    "collapsed": true
   },
   "outputs": [],
   "source": [
    "# missing value\n",
    "# replace with some value: df.fillna()\n",
    "# interpolation: df.interpolate(method='spline')"
   ]
  },
  {
   "cell_type": "code",
   "execution_count": 95,
   "metadata": {
    "collapsed": false
   },
   "outputs": [
    {
     "data": {
      "text/html": [
       "<div>\n",
       "<table border=\"1\" class=\"dataframe\">\n",
       "  <thead>\n",
       "    <tr style=\"text-align: right;\">\n",
       "      <th></th>\n",
       "      <th>d1</th>\n",
       "      <th>d2</th>\n",
       "    </tr>\n",
       "  </thead>\n",
       "  <tbody>\n",
       "    <tr>\n",
       "      <th>0</th>\n",
       "      <td>1.0</td>\n",
       "      <td>2.0</td>\n",
       "    </tr>\n",
       "    <tr>\n",
       "      <th>1</th>\n",
       "      <td>2.0</td>\n",
       "      <td>4.0</td>\n",
       "    </tr>\n",
       "    <tr>\n",
       "      <th>2</th>\n",
       "      <td>3.0</td>\n",
       "      <td>6.0</td>\n",
       "    </tr>\n",
       "    <tr>\n",
       "      <th>3</th>\n",
       "      <td>4.0</td>\n",
       "      <td>8.0</td>\n",
       "    </tr>\n",
       "    <tr>\n",
       "      <th>4</th>\n",
       "      <td>NaN</td>\n",
       "      <td>NaN</td>\n",
       "    </tr>\n",
       "    <tr>\n",
       "      <th>5</th>\n",
       "      <td>6.0</td>\n",
       "      <td>12.0</td>\n",
       "    </tr>\n",
       "  </tbody>\n",
       "</table>\n",
       "</div>"
      ],
      "text/plain": [
       "    d1    d2\n",
       "0  1.0   2.0\n",
       "1  2.0   4.0\n",
       "2  3.0   6.0\n",
       "3  4.0   8.0\n",
       "4  NaN   NaN\n",
       "5  6.0  12.0"
      ]
     },
     "execution_count": 95,
     "metadata": {},
     "output_type": "execute_result"
    }
   ],
   "source": [
    "d1 = np.array([1,2,3,4,np.nan,6])\n",
    "d2 = np.array([2,4,6,8,np.nan,12])\n",
    "\n",
    "df = pd.DataFrame(\n",
    "    {\n",
    "        \"d1\": d1,\n",
    "        \"d2\": d2\n",
    "    },\n",
    "    columns = [\"d1\",\"d2\"]\n",
    ")\n",
    "df"
   ]
  },
  {
   "cell_type": "code",
   "execution_count": 15,
   "metadata": {
    "collapsed": false
   },
   "outputs": [
    {
     "data": {
      "text/html": [
       "<div>\n",
       "<table border=\"1\" class=\"dataframe\">\n",
       "  <thead>\n",
       "    <tr style=\"text-align: right;\">\n",
       "      <th></th>\n",
       "      <th>d1</th>\n",
       "      <th>d2</th>\n",
       "    </tr>\n",
       "  </thead>\n",
       "  <tbody>\n",
       "    <tr>\n",
       "      <th>0</th>\n",
       "      <td>1.0</td>\n",
       "      <td>2.0</td>\n",
       "    </tr>\n",
       "    <tr>\n",
       "      <th>1</th>\n",
       "      <td>2.0</td>\n",
       "      <td>4.0</td>\n",
       "    </tr>\n",
       "    <tr>\n",
       "      <th>2</th>\n",
       "      <td>3.0</td>\n",
       "      <td>6.0</td>\n",
       "    </tr>\n",
       "    <tr>\n",
       "      <th>3</th>\n",
       "      <td>4.0</td>\n",
       "      <td>8.0</td>\n",
       "    </tr>\n",
       "    <tr>\n",
       "      <th>5</th>\n",
       "      <td>6.0</td>\n",
       "      <td>12.0</td>\n",
       "    </tr>\n",
       "  </tbody>\n",
       "</table>\n",
       "</div>"
      ],
      "text/plain": [
       "    d1    d2\n",
       "0  1.0   2.0\n",
       "1  2.0   4.0\n",
       "2  3.0   6.0\n",
       "3  4.0   8.0\n",
       "5  6.0  12.0"
      ]
     },
     "execution_count": 15,
     "metadata": {},
     "output_type": "execute_result"
    }
   ],
   "source": [
    "# exclude records: df.dropna(axis=0)\n",
    "df.dropna(axis=0)"
   ]
  },
  {
   "cell_type": "code",
   "execution_count": 20,
   "metadata": {
    "collapsed": false
   },
   "outputs": [
    {
     "data": {
      "text/html": [
       "<div>\n",
       "<table border=\"1\" class=\"dataframe\">\n",
       "  <thead>\n",
       "    <tr style=\"text-align: right;\">\n",
       "      <th></th>\n",
       "      <th>d1</th>\n",
       "      <th>d2</th>\n",
       "    </tr>\n",
       "  </thead>\n",
       "  <tbody>\n",
       "    <tr>\n",
       "      <th>0</th>\n",
       "      <td>1.0</td>\n",
       "      <td>2.0</td>\n",
       "    </tr>\n",
       "    <tr>\n",
       "      <th>1</th>\n",
       "      <td>2.0</td>\n",
       "      <td>4.0</td>\n",
       "    </tr>\n",
       "    <tr>\n",
       "      <th>2</th>\n",
       "      <td>3.0</td>\n",
       "      <td>6.0</td>\n",
       "    </tr>\n",
       "    <tr>\n",
       "      <th>3</th>\n",
       "      <td>4.0</td>\n",
       "      <td>8.0</td>\n",
       "    </tr>\n",
       "    <tr>\n",
       "      <th>4</th>\n",
       "      <td>5.0</td>\n",
       "      <td>5.0</td>\n",
       "    </tr>\n",
       "    <tr>\n",
       "      <th>5</th>\n",
       "      <td>6.0</td>\n",
       "      <td>12.0</td>\n",
       "    </tr>\n",
       "  </tbody>\n",
       "</table>\n",
       "</div>"
      ],
      "text/plain": [
       "    d1    d2\n",
       "0  1.0   2.0\n",
       "1  2.0   4.0\n",
       "2  3.0   6.0\n",
       "3  4.0   8.0\n",
       "4  5.0   5.0\n",
       "5  6.0  12.0"
      ]
     },
     "execution_count": 20,
     "metadata": {},
     "output_type": "execute_result"
    }
   ],
   "source": [
    "# fill with value\n",
    "df\n",
    "df.fillna(5)"
   ]
  },
  {
   "cell_type": "code",
   "execution_count": 96,
   "metadata": {
    "collapsed": false
   },
   "outputs": [
    {
     "data": {
      "text/html": [
       "<div>\n",
       "<table border=\"1\" class=\"dataframe\">\n",
       "  <thead>\n",
       "    <tr style=\"text-align: right;\">\n",
       "      <th></th>\n",
       "      <th>0</th>\n",
       "    </tr>\n",
       "  </thead>\n",
       "  <tbody>\n",
       "    <tr>\n",
       "      <th>0</th>\n",
       "      <td>1.0</td>\n",
       "    </tr>\n",
       "    <tr>\n",
       "      <th>1</th>\n",
       "      <td>2.0</td>\n",
       "    </tr>\n",
       "    <tr>\n",
       "      <th>2</th>\n",
       "      <td>3.0</td>\n",
       "    </tr>\n",
       "    <tr>\n",
       "      <th>3</th>\n",
       "      <td>4.0</td>\n",
       "    </tr>\n",
       "    <tr>\n",
       "      <th>4</th>\n",
       "      <td>5.0</td>\n",
       "    </tr>\n",
       "    <tr>\n",
       "      <th>5</th>\n",
       "      <td>6.0</td>\n",
       "    </tr>\n",
       "  </tbody>\n",
       "</table>\n",
       "</div>"
      ],
      "text/plain": [
       "     0\n",
       "0  1.0\n",
       "1  2.0\n",
       "2  3.0\n",
       "3  4.0\n",
       "4  5.0\n",
       "5  6.0"
      ]
     },
     "execution_count": 96,
     "metadata": {},
     "output_type": "execute_result"
    }
   ],
   "source": [
    "# interpolation: df.interpolate(method='spline')\n",
    "d3 = pd.DataFrame([1,2,3,4,np.nan,6])\n",
    "d3\n",
    "d3.interpolate()"
   ]
  },
  {
   "cell_type": "code",
   "execution_count": null,
   "metadata": {
    "collapsed": true
   },
   "outputs": [],
   "source": [
    "# our data:\n",
    "# need to analzye each situation and make assumptions.\n",
    "# example:\n",
    "# spend: nan means there's no value in the orders table. so replace with 0 makes sense\n",
    "# country: nan means country is missing. better leave it as nan"
   ]
  },
  {
   "cell_type": "code",
   "execution_count": 5,
   "metadata": {
    "collapsed": true
   },
   "outputs": [],
   "source": [
    "# outlier detection?\n",
    "# depends on business use case\n",
    "# show the impact of outlier on mean and standard deviation"
   ]
  },
  {
   "cell_type": "code",
   "execution_count": null,
   "metadata": {
    "collapsed": false
   },
   "outputs": [],
   "source": [
    "# dealing with outliers:\n",
    "# better solution: winsorization\n",
    "#https://en.wikipedia.org/wiki/Winsorizing"
   ]
  },
  {
   "cell_type": "code",
   "execution_count": 91,
   "metadata": {
    "collapsed": false
   },
   "outputs": [
    {
     "data": {
      "text/plain": [
       "count    88804.000000\n",
       "mean        49.948625\n",
       "std         76.200117\n",
       "min          1.027050\n",
       "25%          4.990000\n",
       "50%         15.880000\n",
       "75%         54.918913\n",
       "max        289.597193\n",
       "Name: total_spend, dtype: float64"
      ]
     },
     "execution_count": 91,
     "metadata": {},
     "output_type": "execute_result"
    }
   ],
   "source": [
    "# own way\n",
    "def winsorize_series(s):\n",
    "    lower = s.quantile(0.05)\n",
    "    upper = s.quantile(0.95)\n",
    "    s[s < lower] = lower\n",
    "    s[s > upper] = upper\n",
    "    return s\n",
    "\n",
    "my_series = pd.Series(total_spend)\n",
    "\n",
    "result = winsorize_series(total_spend)\n",
    "result.describe()"
   ]
  },
  {
   "cell_type": "code",
   "execution_count": null,
   "metadata": {
    "collapsed": true
   },
   "outputs": [],
   "source": [
    "# existing function in scipy\n",
    "stats.mstats.winsorize()"
   ]
  }
 ],
 "metadata": {
  "anaconda-cloud": {},
  "kernelspec": {
   "display_name": "Python [default]",
   "language": "python",
   "name": "python2"
  },
  "language_info": {
   "codemirror_mode": {
    "name": "ipython",
    "version": 2
   },
   "file_extension": ".py",
   "mimetype": "text/x-python",
   "name": "python",
   "nbconvert_exporter": "python",
   "pygments_lexer": "ipython2",
   "version": "2.7.12"
  }
 },
 "nbformat": 4,
 "nbformat_minor": 2
}
